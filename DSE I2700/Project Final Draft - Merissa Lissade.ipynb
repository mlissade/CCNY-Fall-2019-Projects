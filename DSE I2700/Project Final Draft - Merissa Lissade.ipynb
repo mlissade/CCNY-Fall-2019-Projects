{
 "cells": [
  {
   "cell_type": "code",
   "execution_count": 12,
   "metadata": {},
   "outputs": [],
   "source": [
    "import numpy as np\n",
    "import pandas as pd\n",
    "import datetime\n",
    "\n",
    "\n",
    "from bokeh.plotting import *\n",
    "from bokeh.layouts import *\n",
    "from bokeh.io import *\n",
    "from bokeh.models import *\n",
    "output_file('my_part.html')"
   ]
  },
  {
   "cell_type": "code",
   "execution_count": 13,
   "metadata": {},
   "outputs": [],
   "source": [
    "data = pd.read_csv('project_data.csv', parse_dates=['DATE'])\n",
    "#print(data.head(), data.info())\n",
    "available_people = ['merissa_steps', 'sheridan_steps', 'tova_steps']\n",
    "data = data.melt(id_vars=['DATE', 'temp'], value_vars=available_people, var_name='person', value_name='steps')\n",
    "\n",
    "list_of_frames = []\n",
    "for person, frame in zip(available_people, 'abc'[:len(available_people)]):\n",
    "    frame = data[data['person'] == person]\n",
    "    list_of_frames.append(frame)\n",
    "    by_person = pd.concat(list_of_frames)\n",
    "   \n",
    "by_person = ColumnDataSource(by_person)"
   ]
  },
  {
   "cell_type": "code",
   "execution_count": 14,
   "metadata": {},
   "outputs": [],
   "source": [
    "colors = []\n",
    "for color in ['Tomato', 'Turquoise', 'Violet']:\n",
    "    for entry in range(122):\n",
    "        colors.append(color)\n",
    "data['color_by_person'] = colors\n",
    "data['week'] = data.DATE.dt.week"
   ]
  },
  {
   "cell_type": "code",
   "execution_count": 15,
   "metadata": {},
   "outputs": [
    {
     "data": {
      "text/html": [
       "<div>\n",
       "<style scoped>\n",
       "    .dataframe tbody tr th:only-of-type {\n",
       "        vertical-align: middle;\n",
       "    }\n",
       "\n",
       "    .dataframe tbody tr th {\n",
       "        vertical-align: top;\n",
       "    }\n",
       "\n",
       "    .dataframe thead th {\n",
       "        text-align: right;\n",
       "    }\n",
       "</style>\n",
       "<table border=\"1\" class=\"dataframe\">\n",
       "  <thead>\n",
       "    <tr style=\"text-align: right;\">\n",
       "      <th></th>\n",
       "      <th>DATE</th>\n",
       "      <th>temp</th>\n",
       "      <th>person</th>\n",
       "      <th>steps</th>\n",
       "      <th>color_by_person</th>\n",
       "      <th>week</th>\n",
       "    </tr>\n",
       "  </thead>\n",
       "  <tbody>\n",
       "    <tr>\n",
       "      <td>0</td>\n",
       "      <td>2019-06-01</td>\n",
       "      <td>80</td>\n",
       "      <td>merissa_steps</td>\n",
       "      <td>10700.15590</td>\n",
       "      <td>Tomato</td>\n",
       "      <td>22</td>\n",
       "    </tr>\n",
       "    <tr>\n",
       "      <td>1</td>\n",
       "      <td>2019-06-02</td>\n",
       "      <td>81</td>\n",
       "      <td>merissa_steps</td>\n",
       "      <td>7692.00000</td>\n",
       "      <td>Tomato</td>\n",
       "      <td>22</td>\n",
       "    </tr>\n",
       "    <tr>\n",
       "      <td>2</td>\n",
       "      <td>2019-06-03</td>\n",
       "      <td>70</td>\n",
       "      <td>merissa_steps</td>\n",
       "      <td>11560.00000</td>\n",
       "      <td>Tomato</td>\n",
       "      <td>23</td>\n",
       "    </tr>\n",
       "    <tr>\n",
       "      <td>3</td>\n",
       "      <td>2019-06-04</td>\n",
       "      <td>70</td>\n",
       "      <td>merissa_steps</td>\n",
       "      <td>7334.00000</td>\n",
       "      <td>Tomato</td>\n",
       "      <td>23</td>\n",
       "    </tr>\n",
       "    <tr>\n",
       "      <td>4</td>\n",
       "      <td>2019-06-05</td>\n",
       "      <td>81</td>\n",
       "      <td>merissa_steps</td>\n",
       "      <td>10099.04567</td>\n",
       "      <td>Tomato</td>\n",
       "      <td>23</td>\n",
       "    </tr>\n",
       "  </tbody>\n",
       "</table>\n",
       "</div>"
      ],
      "text/plain": [
       "        DATE  temp         person        steps color_by_person  week\n",
       "0 2019-06-01    80  merissa_steps  10700.15590          Tomato    22\n",
       "1 2019-06-02    81  merissa_steps   7692.00000          Tomato    22\n",
       "2 2019-06-03    70  merissa_steps  11560.00000          Tomato    23\n",
       "3 2019-06-04    70  merissa_steps   7334.00000          Tomato    23\n",
       "4 2019-06-05    81  merissa_steps  10099.04567          Tomato    23"
      ]
     },
     "execution_count": 15,
     "metadata": {},
     "output_type": "execute_result"
    }
   ],
   "source": [
    "data.head()"
   ]
  },
  {
   "cell_type": "code",
   "execution_count": 16,
   "metadata": {
    "slideshow": {
     "slide_type": "slide"
    }
   },
   "outputs": [],
   "source": [
    "gp = []\n",
    "for week in range(23,39):\n",
    "    weekly = data[data[\"week\"] == week]\n",
    "    p = figure(plot_width=350, plot_height=200,\n",
    "               x_axis_type='datetime',\n",
    "               x_axis_label='Day', y_axis_label='Steps',\n",
    "               title='Week {}'.format(week),\n",
    "               toolbar_location='left', tools=['hover'], \n",
    "               tooltips=[(\"Name\", \"$name\"),(\"Steps\", \"$y{int}\")])\n",
    "    for who, name, color in zip([\"merissa_steps\",\"sheridan_steps\",\"tova_steps\"],[\"Merissa\",\"Sheridan\",\"Tova\"],['blue','orange','green']):    \n",
    "        per = weekly[weekly['person'] == who]\n",
    "        p.line(per.DATE, per.steps, color=color, legend=name, name=name)\n",
    "    p.legend.click_policy='hide'\n",
    "    gp.append(p)\n",
    "    \n",
    "show(gridplot(gp, ncols=4))"
   ]
  },
  {
   "cell_type": "code",
   "execution_count": 17,
   "metadata": {},
   "outputs": [
    {
     "data": {
      "text/plain": [
       "'\\ngp = []\\ntoolbox = [\\'hover\\']\\nTOOLTIPS = [\\n    (\"Date\", \"@DATE\"),\\n    (\"Merissa\\'s Steps\", \"@merissa_steps\"),\\n    (\"Sheridan\\'s Steps\", \"@sheridan_steps\"),\\n    (\"Tova\\'s Steps\", \"@tova_steps\"),\\n    (\"Temperature\", \"@temp\")\\n]\\n\\nfor week in range(23,39):\\n    weekly = df[df[\"week\"] == week]\\n    xs = [weekly.index, weekly.index, weekly.index]\\n    ys = [weekly.merissa_steps, weekly.tova_steps, weekly.sheridan_steps]\\n    p = figure(plot_width=350, plot_height=200,\\n               x_axis_type=\\'datetime\\',\\n               x_axis_label=\\'Day\\', y_axis_label=\\'Steps\\',\\n               title=\\'Week {}\\'.format(week),\\n               toolbar_location=\\'left\\', tools=toolbox, tooltips=TOOLTIPS)\\n    p.multi_line(xs=xs, ys=ys, color=[\\'blue\\',\\'orange\\',\\'green\\'])\\n    gp.append(p)\\n    \\nshow(gridplot(gp, ncols=4))\\n'"
      ]
     },
     "execution_count": 17,
     "metadata": {},
     "output_type": "execute_result"
    }
   ],
   "source": [
    "# OLD ORIGINAL CODE\n",
    "'''\n",
    "gp = []\n",
    "toolbox = ['hover']\n",
    "TOOLTIPS = [\n",
    "    (\"Date\", \"@DATE\"),\n",
    "    (\"Merissa's Steps\", \"@merissa_steps\"),\n",
    "    (\"Sheridan's Steps\", \"@sheridan_steps\"),\n",
    "    (\"Tova's Steps\", \"@tova_steps\"),\n",
    "    (\"Temperature\", \"@temp\")\n",
    "]\n",
    "\n",
    "for week in range(23,39):\n",
    "    weekly = df[df[\"week\"] == week]\n",
    "    xs = [weekly.index, weekly.index, weekly.index]\n",
    "    ys = [weekly.merissa_steps, weekly.tova_steps, weekly.sheridan_steps]\n",
    "    p = figure(plot_width=350, plot_height=200,\n",
    "               x_axis_type='datetime',\n",
    "               x_axis_label='Day', y_axis_label='Steps',\n",
    "               title='Week {}'.format(week),\n",
    "               toolbar_location='left', tools=toolbox, tooltips=TOOLTIPS)\n",
    "    p.multi_line(xs=xs, ys=ys, color=['blue','orange','green'])\n",
    "    gp.append(p)\n",
    "    \n",
    "show(gridplot(gp, ncols=4))\n",
    "'''"
   ]
  },
  {
   "cell_type": "code",
   "execution_count": null,
   "metadata": {},
   "outputs": [],
   "source": []
  }
 ],
 "metadata": {
  "kernelspec": {
   "display_name": "Python 3",
   "language": "python",
   "name": "python3"
  },
  "language_info": {
   "codemirror_mode": {
    "name": "ipython",
    "version": 3
   },
   "file_extension": ".py",
   "mimetype": "text/x-python",
   "name": "python",
   "nbconvert_exporter": "python",
   "pygments_lexer": "ipython3",
   "version": "3.7.4"
  }
 },
 "nbformat": 4,
 "nbformat_minor": 2
}
