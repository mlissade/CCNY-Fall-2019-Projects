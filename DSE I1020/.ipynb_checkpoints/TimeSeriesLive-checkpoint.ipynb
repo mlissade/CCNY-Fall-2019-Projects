{
 "cells": [
  {
   "cell_type": "code",
   "execution_count": 1,
   "metadata": {},
   "outputs": [],
   "source": [
    "import pandas as pd\n",
    "import numpy as np\n",
    "from matplotlib import pyplot as plt\n",
    "%matplotlib inline"
   ]
  },
  {
   "cell_type": "code",
   "execution_count": 2,
   "metadata": {},
   "outputs": [],
   "source": [
    "dataURL = \"http://bit.ly/ghcndata\""
   ]
  },
  {
   "cell_type": "code",
   "execution_count": 3,
   "metadata": {},
   "outputs": [],
   "source": [
    "ghcn = pd.read_csv(dataURL)"
   ]
  },
  {
   "cell_type": "code",
   "execution_count": 4,
   "metadata": {},
   "outputs": [
    {
     "data": {
      "text/html": [
       "<div>\n",
       "<style scoped>\n",
       "    .dataframe tbody tr th:only-of-type {\n",
       "        vertical-align: middle;\n",
       "    }\n",
       "\n",
       "    .dataframe tbody tr th {\n",
       "        vertical-align: top;\n",
       "    }\n",
       "\n",
       "    .dataframe thead th {\n",
       "        text-align: right;\n",
       "    }\n",
       "</style>\n",
       "<table border=\"1\" class=\"dataframe\">\n",
       "  <thead>\n",
       "    <tr style=\"text-align: right;\">\n",
       "      <th></th>\n",
       "      <th>STATION_NAME</th>\n",
       "      <th>DATE</th>\n",
       "      <th>EMXP</th>\n",
       "      <th>MXSD</th>\n",
       "      <th>TPCP</th>\n",
       "      <th>TSNW</th>\n",
       "      <th>EMXT</th>\n",
       "      <th>EMNT</th>\n",
       "      <th>MMXT</th>\n",
       "      <th>MMNT</th>\n",
       "      <th>MNTM</th>\n",
       "    </tr>\n",
       "  </thead>\n",
       "  <tbody>\n",
       "    <tr>\n",
       "      <th>0</th>\n",
       "      <td>NEW YORK J F KENNEDY INTERNATIONAL AIRPORT NY US</td>\n",
       "      <td>20050601</td>\n",
       "      <td>152</td>\n",
       "      <td>0</td>\n",
       "      <td>528</td>\n",
       "      <td>0</td>\n",
       "      <td>350</td>\n",
       "      <td>117</td>\n",
       "      <td>260</td>\n",
       "      <td>173</td>\n",
       "      <td>217</td>\n",
       "    </tr>\n",
       "    <tr>\n",
       "      <th>1</th>\n",
       "      <td>NEW YORK J F KENNEDY INTERNATIONAL AIRPORT NY US</td>\n",
       "      <td>20050701</td>\n",
       "      <td>439</td>\n",
       "      <td>0</td>\n",
       "      <td>1324</td>\n",
       "      <td>0</td>\n",
       "      <td>333</td>\n",
       "      <td>161</td>\n",
       "      <td>283</td>\n",
       "      <td>205</td>\n",
       "      <td>244</td>\n",
       "    </tr>\n",
       "    <tr>\n",
       "      <th>2</th>\n",
       "      <td>NEW YORK J F KENNEDY INTERNATIONAL AIRPORT NY US</td>\n",
       "      <td>20050801</td>\n",
       "      <td>104</td>\n",
       "      <td>0</td>\n",
       "      <td>148</td>\n",
       "      <td>0</td>\n",
       "      <td>356</td>\n",
       "      <td>178</td>\n",
       "      <td>300</td>\n",
       "      <td>215</td>\n",
       "      <td>257</td>\n",
       "    </tr>\n",
       "    <tr>\n",
       "      <th>3</th>\n",
       "      <td>NEW YORK J F KENNEDY INTERNATIONAL AIRPORT NY US</td>\n",
       "      <td>20050901</td>\n",
       "      <td>429</td>\n",
       "      <td>0</td>\n",
       "      <td>548</td>\n",
       "      <td>0</td>\n",
       "      <td>322</td>\n",
       "      <td>100</td>\n",
       "      <td>270</td>\n",
       "      <td>175</td>\n",
       "      <td>223</td>\n",
       "    </tr>\n",
       "    <tr>\n",
       "      <th>4</th>\n",
       "      <td>NEW YORK J F KENNEDY INTERNATIONAL AIRPORT NY US</td>\n",
       "      <td>20051001</td>\n",
       "      <td>1184</td>\n",
       "      <td>0</td>\n",
       "      <td>3803</td>\n",
       "      <td>0</td>\n",
       "      <td>244</td>\n",
       "      <td>33</td>\n",
       "      <td>177</td>\n",
       "      <td>108</td>\n",
       "      <td>142</td>\n",
       "    </tr>\n",
       "  </tbody>\n",
       "</table>\n",
       "</div>"
      ],
      "text/plain": [
       "                                       STATION_NAME      DATE  EMXP  MXSD  \\\n",
       "0  NEW YORK J F KENNEDY INTERNATIONAL AIRPORT NY US  20050601   152     0   \n",
       "1  NEW YORK J F KENNEDY INTERNATIONAL AIRPORT NY US  20050701   439     0   \n",
       "2  NEW YORK J F KENNEDY INTERNATIONAL AIRPORT NY US  20050801   104     0   \n",
       "3  NEW YORK J F KENNEDY INTERNATIONAL AIRPORT NY US  20050901   429     0   \n",
       "4  NEW YORK J F KENNEDY INTERNATIONAL AIRPORT NY US  20051001  1184     0   \n",
       "\n",
       "   TPCP  TSNW  EMXT  EMNT  MMXT  MMNT  MNTM  \n",
       "0   528     0   350   117   260   173   217  \n",
       "1  1324     0   333   161   283   205   244  \n",
       "2   148     0   356   178   300   215   257  \n",
       "3   548     0   322   100   270   175   223  \n",
       "4  3803     0   244    33   177   108   142  "
      ]
     },
     "execution_count": 4,
     "metadata": {},
     "output_type": "execute_result"
    }
   ],
   "source": [
    "ghcn.head()"
   ]
  },
  {
   "cell_type": "code",
   "execution_count": 5,
   "metadata": {},
   "outputs": [
    {
     "data": {
      "text/plain": [
       "array(['NEW YORK J F KENNEDY INTERNATIONAL AIRPORT NY US',\n",
       "       'WHITE PLAINS 3.1 NNW NY US', 'HARRISON 4.1 SSW NY US',\n",
       "       'NEW YORK LAGUARDIA AIRPORT NY US',\n",
       "       'FARMINGDALE REPUBLIC AIRPORT NY US',\n",
       "       'CHESTNUT RIDGE 0.3 SSW NY US', 'NANUET 0.3 E NY US',\n",
       "       'SPRING VALLEY 1.7 N NY US',\n",
       "       'NEW YORK CENTRAL PARK OBS BELVEDERE TOWER NY US',\n",
       "       'BETHPAGE 0.9 NNW NY US', 'CENTERPORT NY US',\n",
       "       'LEVITTOWN 0.2 E NY US', 'MILL NECK 1.1 SW NY US',\n",
       "       'FLORAL PARK 0.4 W NY US', 'WESTCHESTER CO AIRPORT NY US',\n",
       "       'NEW YORK NY US', 'OCEANSIDE NY US', 'STATEN ISLAND 4.5 SSE NY US',\n",
       "       'BROOKLYN 2.4 SW NY US', 'DOBBS FERRY ARDSLEY NY US',\n",
       "       'MINEOLA NY US', 'BRONX NY US', 'WANTAGH CEDAR CREEK NY US',\n",
       "       'NEW ROCHELLE 1.3 S NY US', 'WEST NYACK 1.3 WSW NY US',\n",
       "       'MIDDLE VILLAGE 0.5 SW NY US', 'STATEN ISLAND 1.4 SE NY US',\n",
       "       'BROOKLYN 3.1 NW NY US'], dtype=object)"
      ]
     },
     "execution_count": 5,
     "metadata": {},
     "output_type": "execute_result"
    }
   ],
   "source": [
    "ghcn['STATION_NAME'].unique()"
   ]
  },
  {
   "cell_type": "code",
   "execution_count": 6,
   "metadata": {},
   "outputs": [
    {
     "data": {
      "text/plain": [
       "Index(['STATION_NAME', 'DATE', 'EMXP', 'MXSD', 'TPCP', 'TSNW', 'EMXT', 'EMNT',\n",
       "       'MMXT', 'MMNT', 'MNTM'],\n",
       "      dtype='object')"
      ]
     },
     "execution_count": 6,
     "metadata": {},
     "output_type": "execute_result"
    }
   ],
   "source": [
    "ghcn.columns"
   ]
  },
  {
   "cell_type": "code",
   "execution_count": 7,
   "metadata": {},
   "outputs": [
    {
     "data": {
      "text/html": [
       "<div>\n",
       "<style scoped>\n",
       "    .dataframe tbody tr th:only-of-type {\n",
       "        vertical-align: middle;\n",
       "    }\n",
       "\n",
       "    .dataframe tbody tr th {\n",
       "        vertical-align: top;\n",
       "    }\n",
       "\n",
       "    .dataframe thead th {\n",
       "        text-align: right;\n",
       "    }\n",
       "</style>\n",
       "<table border=\"1\" class=\"dataframe\">\n",
       "  <thead>\n",
       "    <tr style=\"text-align: right;\">\n",
       "      <th></th>\n",
       "      <th>MMXT</th>\n",
       "      <th>MMNT</th>\n",
       "      <th>MNTM</th>\n",
       "    </tr>\n",
       "  </thead>\n",
       "  <tbody>\n",
       "    <tr>\n",
       "      <th>5</th>\n",
       "      <td>134</td>\n",
       "      <td>48</td>\n",
       "      <td>91</td>\n",
       "    </tr>\n",
       "    <tr>\n",
       "      <th>7</th>\n",
       "      <td>81</td>\n",
       "      <td>-2</td>\n",
       "      <td>40</td>\n",
       "    </tr>\n",
       "    <tr>\n",
       "      <th>9</th>\n",
       "      <td>96</td>\n",
       "      <td>12</td>\n",
       "      <td>54</td>\n",
       "    </tr>\n",
       "    <tr>\n",
       "      <th>11</th>\n",
       "      <td>207</td>\n",
       "      <td>117</td>\n",
       "      <td>162</td>\n",
       "    </tr>\n",
       "    <tr>\n",
       "      <th>13</th>\n",
       "      <td>289</td>\n",
       "      <td>209</td>\n",
       "      <td>249</td>\n",
       "    </tr>\n",
       "    <tr>\n",
       "      <th>15</th>\n",
       "      <td>233</td>\n",
       "      <td>156</td>\n",
       "      <td>194</td>\n",
       "    </tr>\n",
       "  </tbody>\n",
       "</table>\n",
       "</div>"
      ],
      "text/plain": [
       "    MMXT  MMNT  MNTM\n",
       "5    134    48    91\n",
       "7     81    -2    40\n",
       "9     96    12    54\n",
       "11   207   117   162\n",
       "13   289   209   249\n",
       "15   233   156   194"
      ]
     },
     "execution_count": 7,
     "metadata": {},
     "output_type": "execute_result"
    }
   ],
   "source": [
    "ghcn.loc[5:15:2, 'MMXT':'MNTM']"
   ]
  },
  {
   "cell_type": "code",
   "execution_count": 8,
   "metadata": {},
   "outputs": [
    {
     "data": {
      "text/html": [
       "<div>\n",
       "<style scoped>\n",
       "    .dataframe tbody tr th:only-of-type {\n",
       "        vertical-align: middle;\n",
       "    }\n",
       "\n",
       "    .dataframe tbody tr th {\n",
       "        vertical-align: top;\n",
       "    }\n",
       "\n",
       "    .dataframe thead th {\n",
       "        text-align: right;\n",
       "    }\n",
       "</style>\n",
       "<table border=\"1\" class=\"dataframe\">\n",
       "  <thead>\n",
       "    <tr style=\"text-align: right;\">\n",
       "      <th></th>\n",
       "      <th>TSNW</th>\n",
       "      <th>EMXT</th>\n",
       "      <th>EMNT</th>\n",
       "      <th>MMXT</th>\n",
       "      <th>MMNT</th>\n",
       "    </tr>\n",
       "  </thead>\n",
       "  <tbody>\n",
       "    <tr>\n",
       "      <th>5</th>\n",
       "      <td>0</td>\n",
       "      <td>200</td>\n",
       "      <td>-56</td>\n",
       "      <td>134</td>\n",
       "      <td>48</td>\n",
       "    </tr>\n",
       "    <tr>\n",
       "      <th>7</th>\n",
       "      <td>53</td>\n",
       "      <td>167</td>\n",
       "      <td>-100</td>\n",
       "      <td>81</td>\n",
       "      <td>-2</td>\n",
       "    </tr>\n",
       "    <tr>\n",
       "      <th>9</th>\n",
       "      <td>13</td>\n",
       "      <td>217</td>\n",
       "      <td>-56</td>\n",
       "      <td>96</td>\n",
       "      <td>12</td>\n",
       "    </tr>\n",
       "    <tr>\n",
       "      <th>11</th>\n",
       "      <td>0</td>\n",
       "      <td>289</td>\n",
       "      <td>72</td>\n",
       "      <td>207</td>\n",
       "      <td>117</td>\n",
       "    </tr>\n",
       "    <tr>\n",
       "      <th>13</th>\n",
       "      <td>0</td>\n",
       "      <td>350</td>\n",
       "      <td>167</td>\n",
       "      <td>289</td>\n",
       "      <td>209</td>\n",
       "    </tr>\n",
       "  </tbody>\n",
       "</table>\n",
       "</div>"
      ],
      "text/plain": [
       "    TSNW  EMXT  EMNT  MMXT  MMNT\n",
       "5      0   200   -56   134    48\n",
       "7     53   167  -100    81    -2\n",
       "9     13   217   -56    96    12\n",
       "11     0   289    72   207   117\n",
       "13     0   350   167   289   209"
      ]
     },
     "execution_count": 8,
     "metadata": {},
     "output_type": "execute_result"
    }
   ],
   "source": [
    "ghcn.iloc[5:15:2,5:10]"
   ]
  },
  {
   "cell_type": "code",
   "execution_count": 9,
   "metadata": {},
   "outputs": [
    {
     "data": {
      "text/plain": [
       "17875"
      ]
     },
     "execution_count": 9,
     "metadata": {},
     "output_type": "execute_result"
    }
   ],
   "source": [
    "ghcn.size"
   ]
  },
  {
   "cell_type": "code",
   "execution_count": 10,
   "metadata": {},
   "outputs": [
    {
     "data": {
      "text/plain": [
       "(1625, 11)"
      ]
     },
     "execution_count": 10,
     "metadata": {},
     "output_type": "execute_result"
    }
   ],
   "source": [
    "ghcn.shape"
   ]
  },
  {
   "cell_type": "code",
   "execution_count": 11,
   "metadata": {},
   "outputs": [
    {
     "data": {
      "text/html": [
       "<div>\n",
       "<style scoped>\n",
       "    .dataframe tbody tr th:only-of-type {\n",
       "        vertical-align: middle;\n",
       "    }\n",
       "\n",
       "    .dataframe tbody tr th {\n",
       "        vertical-align: top;\n",
       "    }\n",
       "\n",
       "    .dataframe thead th {\n",
       "        text-align: right;\n",
       "    }\n",
       "</style>\n",
       "<table border=\"1\" class=\"dataframe\">\n",
       "  <thead>\n",
       "    <tr style=\"text-align: right;\">\n",
       "      <th></th>\n",
       "      <th>DATE</th>\n",
       "      <th>EMXP</th>\n",
       "      <th>MXSD</th>\n",
       "      <th>TPCP</th>\n",
       "      <th>TSNW</th>\n",
       "      <th>EMXT</th>\n",
       "      <th>EMNT</th>\n",
       "      <th>MMXT</th>\n",
       "      <th>MMNT</th>\n",
       "      <th>MNTM</th>\n",
       "    </tr>\n",
       "  </thead>\n",
       "  <tbody>\n",
       "    <tr>\n",
       "      <th>count</th>\n",
       "      <td>1.625000e+03</td>\n",
       "      <td>1625.000000</td>\n",
       "      <td>1625.000000</td>\n",
       "      <td>1625.000000</td>\n",
       "      <td>1625.000000</td>\n",
       "      <td>1625.000000</td>\n",
       "      <td>1625.000000</td>\n",
       "      <td>1625.000000</td>\n",
       "      <td>1625.000000</td>\n",
       "      <td>1625.000000</td>\n",
       "    </tr>\n",
       "    <tr>\n",
       "      <th>mean</th>\n",
       "      <td>2.009903e+07</td>\n",
       "      <td>350.970462</td>\n",
       "      <td>-3895.414769</td>\n",
       "      <td>957.204923</td>\n",
       "      <td>-1833.057846</td>\n",
       "      <td>-2704.128615</td>\n",
       "      <td>-2874.129846</td>\n",
       "      <td>-2764.936000</td>\n",
       "      <td>-2825.930462</td>\n",
       "      <td>-2795.423385</td>\n",
       "    </tr>\n",
       "    <tr>\n",
       "      <th>std</th>\n",
       "      <td>2.654034e+04</td>\n",
       "      <td>520.722735</td>\n",
       "      <td>4909.468221</td>\n",
       "      <td>814.757100</td>\n",
       "      <td>3928.840691</td>\n",
       "      <td>4648.436400</td>\n",
       "      <td>4540.329046</td>\n",
       "      <td>4609.809287</td>\n",
       "      <td>4570.872183</td>\n",
       "      <td>4590.342377</td>\n",
       "    </tr>\n",
       "    <tr>\n",
       "      <th>min</th>\n",
       "      <td>2.005060e+07</td>\n",
       "      <td>-9999.000000</td>\n",
       "      <td>-9999.000000</td>\n",
       "      <td>-9999.000000</td>\n",
       "      <td>-9999.000000</td>\n",
       "      <td>-9999.000000</td>\n",
       "      <td>-9999.000000</td>\n",
       "      <td>-9999.000000</td>\n",
       "      <td>-9999.000000</td>\n",
       "      <td>-9999.000000</td>\n",
       "    </tr>\n",
       "    <tr>\n",
       "      <th>25%</th>\n",
       "      <td>2.008040e+07</td>\n",
       "      <td>206.000000</td>\n",
       "      <td>-9999.000000</td>\n",
       "      <td>551.000000</td>\n",
       "      <td>0.000000</td>\n",
       "      <td>-9999.000000</td>\n",
       "      <td>-9999.000000</td>\n",
       "      <td>-9999.000000</td>\n",
       "      <td>-9999.000000</td>\n",
       "      <td>-9999.000000</td>\n",
       "    </tr>\n",
       "    <tr>\n",
       "      <th>50%</th>\n",
       "      <td>2.010040e+07</td>\n",
       "      <td>305.000000</td>\n",
       "      <td>0.000000</td>\n",
       "      <td>879.000000</td>\n",
       "      <td>0.000000</td>\n",
       "      <td>200.000000</td>\n",
       "      <td>-56.000000</td>\n",
       "      <td>100.000000</td>\n",
       "      <td>19.000000</td>\n",
       "      <td>59.000000</td>\n",
       "    </tr>\n",
       "    <tr>\n",
       "      <th>75%</th>\n",
       "      <td>2.012070e+07</td>\n",
       "      <td>460.000000</td>\n",
       "      <td>0.000000</td>\n",
       "      <td>1250.000000</td>\n",
       "      <td>0.000000</td>\n",
       "      <td>306.000000</td>\n",
       "      <td>67.000000</td>\n",
       "      <td>226.000000</td>\n",
       "      <td>133.000000</td>\n",
       "      <td>179.000000</td>\n",
       "    </tr>\n",
       "    <tr>\n",
       "      <th>max</th>\n",
       "      <td>2.014120e+07</td>\n",
       "      <td>2443.000000</td>\n",
       "      <td>584.000000</td>\n",
       "      <td>4813.000000</td>\n",
       "      <td>1023.000000</td>\n",
       "      <td>539.000000</td>\n",
       "      <td>200.000000</td>\n",
       "      <td>336.000000</td>\n",
       "      <td>239.000000</td>\n",
       "      <td>282.000000</td>\n",
       "    </tr>\n",
       "  </tbody>\n",
       "</table>\n",
       "</div>"
      ],
      "text/plain": [
       "               DATE         EMXP         MXSD         TPCP         TSNW  \\\n",
       "count  1.625000e+03  1625.000000  1625.000000  1625.000000  1625.000000   \n",
       "mean   2.009903e+07   350.970462 -3895.414769   957.204923 -1833.057846   \n",
       "std    2.654034e+04   520.722735  4909.468221   814.757100  3928.840691   \n",
       "min    2.005060e+07 -9999.000000 -9999.000000 -9999.000000 -9999.000000   \n",
       "25%    2.008040e+07   206.000000 -9999.000000   551.000000     0.000000   \n",
       "50%    2.010040e+07   305.000000     0.000000   879.000000     0.000000   \n",
       "75%    2.012070e+07   460.000000     0.000000  1250.000000     0.000000   \n",
       "max    2.014120e+07  2443.000000   584.000000  4813.000000  1023.000000   \n",
       "\n",
       "              EMXT         EMNT         MMXT         MMNT         MNTM  \n",
       "count  1625.000000  1625.000000  1625.000000  1625.000000  1625.000000  \n",
       "mean  -2704.128615 -2874.129846 -2764.936000 -2825.930462 -2795.423385  \n",
       "std    4648.436400  4540.329046  4609.809287  4570.872183  4590.342377  \n",
       "min   -9999.000000 -9999.000000 -9999.000000 -9999.000000 -9999.000000  \n",
       "25%   -9999.000000 -9999.000000 -9999.000000 -9999.000000 -9999.000000  \n",
       "50%     200.000000   -56.000000   100.000000    19.000000    59.000000  \n",
       "75%     306.000000    67.000000   226.000000   133.000000   179.000000  \n",
       "max     539.000000   200.000000   336.000000   239.000000   282.000000  "
      ]
     },
     "execution_count": 11,
     "metadata": {},
     "output_type": "execute_result"
    }
   ],
   "source": [
    "ghcn.describe()"
   ]
  },
  {
   "cell_type": "code",
   "execution_count": 12,
   "metadata": {},
   "outputs": [
    {
     "data": {
      "text/plain": [
       "-2764.936"
      ]
     },
     "execution_count": 12,
     "metadata": {},
     "output_type": "execute_result"
    }
   ],
   "source": [
    "ghcn['MMXT'].mean()"
   ]
  },
  {
   "cell_type": "code",
   "execution_count": 13,
   "metadata": {},
   "outputs": [
    {
     "data": {
      "text/plain": [
       "336"
      ]
     },
     "execution_count": 13,
     "metadata": {},
     "output_type": "execute_result"
    }
   ],
   "source": [
    "ghcn['MMXT'].max()"
   ]
  },
  {
   "cell_type": "code",
   "execution_count": 14,
   "metadata": {},
   "outputs": [
    {
     "data": {
      "text/plain": [
       "<matplotlib.axes._subplots.AxesSubplot at 0x2a5a40822b0>"
      ]
     },
     "execution_count": 14,
     "metadata": {},
     "output_type": "execute_result"
    },
    {
     "data": {
      "image/png": "[encoded data removed]",
      "text/plain": [
       "<Figure size 432x288 with 1 Axes>"
      ]
     },
     "metadata": {
      "needs_background": "light"
     },
     "output_type": "display_data"
    }
   ],
   "source": [
    "ghcn['MNTM'].hist()\n",
    "ghcn['MMXT'].hist()"
   ]
  },
  {
   "cell_type": "code",
   "execution_count": 20,
   "metadata": {},
   "outputs": [
    {
     "data": {
      "image/png": "[encoded data removed]",
      "text/plain": [
       "<Figure size 432x288 with 1 Axes>"
      ]
     },
     "metadata": {
      "needs_background": "light"
     },
     "output_type": "display_data"
    }
   ],
   "source": [
    "fig, ax = plt.subplots()\n",
    "_ = ghcn['MNTM'].hist(histtype='step', ax=ax, label='average')\n",
    "_ = ghcn['MMNT'].hist(histtype='step', ax=ax, label='min')\n",
    "_ = ghcn['MMXT'].hist(histtype='step', ax=ax, label='max')\n",
    "_ = ax.legend(loc='upper left')\n",
    "_ = ax.set_title('Mean Monthly Temperature')\n",
    "_ = ax.set_xlabel('Tenths of a degree Celsius')\n",
    "_ = ax.set_ylabel('frequency')\n",
    "ax.grid(False)"
   ]
  },
  {
   "cell_type": "code",
   "execution_count": 21,
   "metadata": {},
   "outputs": [],
   "source": [
    "ghcn.replace(-9999,np.nan,inplace=True)"
   ]
  },
  {
   "cell_type": "code",
   "execution_count": 22,
   "metadata": {},
   "outputs": [
    {
     "data": {
      "text/html": [
       "<div>\n",
       "<style scoped>\n",
       "    .dataframe tbody tr th:only-of-type {\n",
       "        vertical-align: middle;\n",
       "    }\n",
       "\n",
       "    .dataframe tbody tr th {\n",
       "        vertical-align: top;\n",
       "    }\n",
       "\n",
       "    .dataframe thead th {\n",
       "        text-align: right;\n",
       "    }\n",
       "</style>\n",
       "<table border=\"1\" class=\"dataframe\">\n",
       "  <thead>\n",
       "    <tr style=\"text-align: right;\">\n",
       "      <th></th>\n",
       "      <th>DATE</th>\n",
       "      <th>EMXP</th>\n",
       "      <th>MXSD</th>\n",
       "      <th>TPCP</th>\n",
       "      <th>TSNW</th>\n",
       "      <th>EMXT</th>\n",
       "      <th>EMNT</th>\n",
       "      <th>MMXT</th>\n",
       "      <th>MMNT</th>\n",
       "      <th>MNTM</th>\n",
       "    </tr>\n",
       "  </thead>\n",
       "  <tbody>\n",
       "    <tr>\n",
       "      <th>count</th>\n",
       "      <td>1.625000e+03</td>\n",
       "      <td>1622.000000</td>\n",
       "      <td>987.000000</td>\n",
       "      <td>1622.000000</td>\n",
       "      <td>1320.000000</td>\n",
       "      <td>1156.000000</td>\n",
       "      <td>1156.000000</td>\n",
       "      <td>1156.000000</td>\n",
       "      <td>1156.000000</td>\n",
       "      <td>1156.000000</td>\n",
       "    </tr>\n",
       "    <tr>\n",
       "      <th>mean</th>\n",
       "      <td>2.009903e+07</td>\n",
       "      <td>370.113440</td>\n",
       "      <td>49.962513</td>\n",
       "      <td>977.469174</td>\n",
       "      <td>53.769697</td>\n",
       "      <td>255.468858</td>\n",
       "      <td>16.496540</td>\n",
       "      <td>169.991349</td>\n",
       "      <td>84.250865</td>\n",
       "      <td>127.134948</td>\n",
       "    </tr>\n",
       "    <tr>\n",
       "      <th>std</th>\n",
       "      <td>2.654034e+04</td>\n",
       "      <td>270.251403</td>\n",
       "      <td>108.166236</td>\n",
       "      <td>665.199628</td>\n",
       "      <td>151.237483</td>\n",
       "      <td>82.013978</td>\n",
       "      <td>96.101295</td>\n",
       "      <td>90.428972</td>\n",
       "      <td>84.560433</td>\n",
       "      <td>87.190188</td>\n",
       "    </tr>\n",
       "    <tr>\n",
       "      <th>min</th>\n",
       "      <td>2.005060e+07</td>\n",
       "      <td>0.000000</td>\n",
       "      <td>0.000000</td>\n",
       "      <td>0.000000</td>\n",
       "      <td>0.000000</td>\n",
       "      <td>44.000000</td>\n",
       "      <td>-182.000000</td>\n",
       "      <td>-7.000000</td>\n",
       "      <td>-83.000000</td>\n",
       "      <td>-44.000000</td>\n",
       "    </tr>\n",
       "    <tr>\n",
       "      <th>25%</th>\n",
       "      <td>2.008040e+07</td>\n",
       "      <td>208.000000</td>\n",
       "      <td>0.000000</td>\n",
       "      <td>553.000000</td>\n",
       "      <td>0.000000</td>\n",
       "      <td>189.000000</td>\n",
       "      <td>-71.000000</td>\n",
       "      <td>87.750000</td>\n",
       "      <td>4.750000</td>\n",
       "      <td>47.000000</td>\n",
       "    </tr>\n",
       "    <tr>\n",
       "      <th>50%</th>\n",
       "      <td>2.010040e+07</td>\n",
       "      <td>305.000000</td>\n",
       "      <td>0.000000</td>\n",
       "      <td>880.500000</td>\n",
       "      <td>0.000000</td>\n",
       "      <td>269.500000</td>\n",
       "      <td>17.000000</td>\n",
       "      <td>176.000000</td>\n",
       "      <td>82.000000</td>\n",
       "      <td>128.000000</td>\n",
       "    </tr>\n",
       "    <tr>\n",
       "      <th>75%</th>\n",
       "      <td>2.012070e+07</td>\n",
       "      <td>460.000000</td>\n",
       "      <td>45.500000</td>\n",
       "      <td>1250.000000</td>\n",
       "      <td>5.000000</td>\n",
       "      <td>323.500000</td>\n",
       "      <td>100.000000</td>\n",
       "      <td>255.000000</td>\n",
       "      <td>165.000000</td>\n",
       "      <td>210.250000</td>\n",
       "    </tr>\n",
       "    <tr>\n",
       "      <th>max</th>\n",
       "      <td>2.014120e+07</td>\n",
       "      <td>2443.000000</td>\n",
       "      <td>584.000000</td>\n",
       "      <td>4813.000000</td>\n",
       "      <td>1023.000000</td>\n",
       "      <td>539.000000</td>\n",
       "      <td>200.000000</td>\n",
       "      <td>336.000000</td>\n",
       "      <td>239.000000</td>\n",
       "      <td>282.000000</td>\n",
       "    </tr>\n",
       "  </tbody>\n",
       "</table>\n",
       "</div>"
      ],
      "text/plain": [
       "               DATE         EMXP        MXSD         TPCP         TSNW  \\\n",
       "count  1.625000e+03  1622.000000  987.000000  1622.000000  1320.000000   \n",
       "mean   2.009903e+07   370.113440   49.962513   977.469174    53.769697   \n",
       "std    2.654034e+04   270.251403  108.166236   665.199628   151.237483   \n",
       "min    2.005060e+07     0.000000    0.000000     0.000000     0.000000   \n",
       "25%    2.008040e+07   208.000000    0.000000   553.000000     0.000000   \n",
       "50%    2.010040e+07   305.000000    0.000000   880.500000     0.000000   \n",
       "75%    2.012070e+07   460.000000   45.500000  1250.000000     5.000000   \n",
       "max    2.014120e+07  2443.000000  584.000000  4813.000000  1023.000000   \n",
       "\n",
       "              EMXT         EMNT         MMXT         MMNT         MNTM  \n",
       "count  1156.000000  1156.000000  1156.000000  1156.000000  1156.000000  \n",
       "mean    255.468858    16.496540   169.991349    84.250865   127.134948  \n",
       "std      82.013978    96.101295    90.428972    84.560433    87.190188  \n",
       "min      44.000000  -182.000000    -7.000000   -83.000000   -44.000000  \n",
       "25%     189.000000   -71.000000    87.750000     4.750000    47.000000  \n",
       "50%     269.500000    17.000000   176.000000    82.000000   128.000000  \n",
       "75%     323.500000   100.000000   255.000000   165.000000   210.250000  \n",
       "max     539.000000   200.000000   336.000000   239.000000   282.000000  "
      ]
     },
     "execution_count": 22,
     "metadata": {},
     "output_type": "execute_result"
    }
   ],
   "source": [
    "ghcn.describe()"
   ]
  },
  {
   "cell_type": "code",
   "execution_count": 23,
   "metadata": {},
   "outputs": [
    {
     "data": {
      "image/png": "[encoded data removed]",
      "text/plain": [
       "<Figure size 432x288 with 1 Axes>"
      ]
     },
     "metadata": {
      "needs_background": "light"
     },
     "output_type": "display_data"
    }
   ],
   "source": [
    "fig, ax = plt.subplots()\n",
    "_ = ghcn['MNTM'].hist(histtype='step', ax=ax, label='average')\n",
    "_ = ghcn['MMNT'].hist(histtype='step', ax=ax, label='min')\n",
    "_ = ghcn['MMXT'].hist(histtype='step', ax=ax, label='max')\n",
    "_ = ax.legend(loc='upper left')\n",
    "_ = ax.set_title('Mean Monthly Temperature')\n",
    "_ = ax.set_xlabel('Tenths of a degree Celsius')\n",
    "_ = ax.set_ylabel('frequency')\n",
    "ax.grid(False)"
   ]
  },
  {
   "cell_type": "code",
   "execution_count": 24,
   "metadata": {},
   "outputs": [
    {
     "data": {
      "image/png": "[encoded data removed]",
      "text/plain": [
       "<Figure size 864x288 with 2 Axes>"
      ]
     },
     "metadata": {
      "needs_background": "light"
     },
     "output_type": "display_data"
    }
   ],
   "source": [
    "fig, (ax1, ax2) = plt.subplots(figsize=(12,4),ncols=2)\n",
    "_ = ghcn[['MNTM','MMNT','MMXT']].plot.kde(ax=ax1)\n",
    "_ = ghcn[['MNTM','MMNT','MMXT']].boxplot(ax=ax2)"
   ]
  },
  {
   "cell_type": "code",
   "execution_count": 25,
   "metadata": {},
   "outputs": [
    {
     "data": {
      "image/png": "[encoded data removed]",
      "text/plain": [
       "<Figure size 432x288 with 1 Axes>"
      ]
     },
     "metadata": {
      "needs_background": "light"
     },
     "output_type": "display_data"
    }
   ],
   "source": [
    "fig, ax = plt.subplots()\n",
    "_ = ghcn['MNTM'].hist(histtype='step', bins=25, ax=ax, label='average')\n",
    "_ = ghcn['MMNT'].hist(histtype='step', bins=25, ax=ax, label='min')\n",
    "_ = ghcn['MMXT'].hist(histtype='step', bins=25, ax=ax, label='max')\n",
    "_ = ax.legend(loc='upper left')\n",
    "_ = ax.set_title('Mean Monthly Temperature')\n",
    "_ = ax.set_xlabel('Tenths of a degree Celsius')\n",
    "_ = ax.set_ylabel('frequency')\n",
    "ax.grid(False)"
   ]
  },
  {
   "cell_type": "code",
   "execution_count": 26,
   "metadata": {},
   "outputs": [
    {
     "data": {
      "image/png": "[encoded data removed]",
      "text/plain": [
       "<Figure size 432x288 with 1 Axes>"
      ]
     },
     "metadata": {
      "needs_background": "light"
     },
     "output_type": "display_data"
    }
   ],
   "source": [
    "fig, ax = plt.subplots()\n",
    "_ = ghcn['MNTM'].hist(histtype='step', bins=100, ax=ax, label='average')\n",
    "_ = ghcn['MMNT'].hist(histtype='step', bins=100, ax=ax, label='min')\n",
    "_ = ghcn['MMXT'].hist(histtype='step', bins=100, ax=ax, label='max')\n",
    "_ = ax.legend(loc='upper left')\n",
    "_ = ax.set_title('Mean Monthly Temperature')\n",
    "_ = ax.set_xlabel('Tenths of a degree Celsius')\n",
    "_ = ax.set_ylabel('frequency')\n",
    "ax.grid(False)"
   ]
  },
  {
   "cell_type": "code",
   "execution_count": 27,
   "metadata": {},
   "outputs": [
    {
     "data": {
      "image/png": "[encoded data removed]",
      "text/plain": [
       "<Figure size 432x288 with 1 Axes>"
      ]
     },
     "metadata": {
      "needs_background": "light"
     },
     "output_type": "display_data"
    }
   ],
   "source": [
    "fig, ax = plt.subplots()\n",
    "_ = ghcn['MNTM'].hist(histtype='step', bins=1000, ax=ax, label='average')\n",
    "_ = ghcn['MMNT'].hist(histtype='step', bins=1000, ax=ax, label='min')\n",
    "_ = ghcn['MMXT'].hist(histtype='step', bins=1000, ax=ax, label='max')\n",
    "_ = ax.legend(loc='upper left')\n",
    "_ = ax.set_title('Mean Monthly Temperature')\n",
    "_ = ax.set_xlabel('Tenths of a degree Celsius')\n",
    "_ = ax.set_ylabel('frequency')\n",
    "ax.grid(False)"
   ]
  },
  {
   "cell_type": "markdown",
   "metadata": {},
   "source": [
    "Shape of distributions no longer visible"
   ]
  },
  {
   "cell_type": "code",
   "execution_count": 28,
   "metadata": {},
   "outputs": [
    {
     "name": "stdout",
     "output_type": "stream",
     "text": [
      "<class 'pandas.core.frame.DataFrame'>\n",
      "RangeIndex: 1625 entries, 0 to 1624\n",
      "Data columns (total 11 columns):\n",
      "STATION_NAME    1625 non-null object\n",
      "DATE            1625 non-null int64\n",
      "EMXP            1622 non-null float64\n",
      "MXSD            987 non-null float64\n",
      "TPCP            1622 non-null float64\n",
      "TSNW            1320 non-null float64\n",
      "EMXT            1156 non-null float64\n",
      "EMNT            1156 non-null float64\n",
      "MMXT            1156 non-null float64\n",
      "MMNT            1156 non-null float64\n",
      "MNTM            1156 non-null float64\n",
      "dtypes: float64(9), int64(1), object(1)\n",
      "memory usage: 139.7+ KB\n"
     ]
    }
   ],
   "source": [
    "ghcn.info()"
   ]
  },
  {
   "cell_type": "code",
   "execution_count": 29,
   "metadata": {},
   "outputs": [
    {
     "data": {
      "text/plain": [
       "NEW YORK CENTRAL PARK OBS BELVEDERE TOWER NY US     121\n",
       "NEW YORK J F KENNEDY INTERNATIONAL AIRPORT NY US    121\n",
       "CENTERPORT NY US                                    121\n",
       "NEW YORK LAGUARDIA AIRPORT NY US                    121\n",
       "FARMINGDALE REPUBLIC AIRPORT NY US                  121\n",
       "WESTCHESTER CO AIRPORT NY US                        121\n",
       "BRONX NY US                                         101\n",
       "MINEOLA NY US                                        83\n",
       "DOBBS FERRY ARDSLEY NY US                            83\n",
       "WANTAGH CEDAR CREEK NY US                            83\n",
       "FLORAL PARK 0.4 W NY US                              81\n",
       "STATEN ISLAND 4.5 SSE NY US                          60\n",
       "OCEANSIDE NY US                                      57\n",
       "LEVITTOWN 0.2 E NY US                                54\n",
       "STATEN ISLAND 1.4 SE NY US                           41\n",
       "MIDDLE VILLAGE 0.5 SW NY US                          39\n",
       "NEW ROCHELLE 1.3 S NY US                             35\n",
       "WEST NYACK 1.3 WSW NY US                             31\n",
       "WHITE PLAINS 3.1 NNW NY US                           29\n",
       "SPRING VALLEY 1.7 N NY US                            26\n",
       "NEW YORK NY US                                       23\n",
       "BETHPAGE 0.9 NNW NY US                               17\n",
       "BROOKLYN 3.1 NW NY US                                14\n",
       "NANUET 0.3 E NY US                                   13\n",
       "CHESTNUT RIDGE 0.3 SSW NY US                          9\n",
       "MILL NECK 1.1 SW NY US                                7\n",
       "BROOKLYN 2.4 SW NY US                                 7\n",
       "HARRISON 4.1 SSW NY US                                6\n",
       "Name: STATION_NAME, dtype: int64"
      ]
     },
     "execution_count": 29,
     "metadata": {},
     "output_type": "execute_result"
    }
   ],
   "source": [
    "ghcn['STATION_NAME'].value_counts()"
   ]
  },
  {
   "cell_type": "code",
   "execution_count": 30,
   "metadata": {},
   "outputs": [
    {
     "data": {
      "text/plain": [
       "<matplotlib.axes._subplots.AxesSubplot at 0x2a5a6986a58>"
      ]
     },
     "execution_count": 30,
     "metadata": {},
     "output_type": "execute_result"
    },
    {
     "data": {
      "image/png": "[encoded data removed]",
      "text/plain": [
       "<Figure size 432x288 with 1 Axes>"
      ]
     },
     "metadata": {
      "needs_background": "light"
     },
     "output_type": "display_data"
    }
   ],
   "source": [
    "ghcn['STATION_NAME'].value_counts().plot.bar()"
   ]
  },
  {
   "cell_type": "code",
   "execution_count": 35,
   "metadata": {},
   "outputs": [],
   "source": [
    "import seaborn as sns"
   ]
  },
  {
   "cell_type": "code",
   "execution_count": 37,
   "metadata": {
    "scrolled": true
   },
   "outputs": [
    {
     "data": {
      "image/png": "[encoded data removed]",
      "text/plain": [
       "<Figure size 432x288 with 1 Axes>"
      ]
     },
     "metadata": {
      "needs_background": "light"
     },
     "output_type": "display_data"
    }
   ],
   "source": [
    "g = sns.boxplot(y ='MNTM', x='STATION_NAME', data=ghcn,\n",
    "               order=ghcn['STATION_NAME'].value_counts().keys())\n",
    "#  _ = g.set_xticklabels(g.get_ticks)"
   ]
  },
  {
   "cell_type": "markdown",
   "metadata": {},
   "source": [
    "## Fixing Dates"
   ]
  },
  {
   "cell_type": "code",
   "execution_count": 38,
   "metadata": {
    "scrolled": true
   },
   "outputs": [
    {
     "data": {
      "text/plain": [
       "0    20050601\n",
       "1    20050701\n",
       "2    20050801\n",
       "3    20050901\n",
       "4    20051001\n",
       "Name: DATE, dtype: int64"
      ]
     },
     "execution_count": 38,
     "metadata": {},
     "output_type": "execute_result"
    }
   ],
   "source": [
    "ghcn['DATE'].head()"
   ]
  },
  {
   "cell_type": "code",
   "execution_count": 46,
   "metadata": {},
   "outputs": [],
   "source": [
    "ghcn['date']=pd.to_datetime(ghcn['DATE'],format='%Y%m%d')"
   ]
  },
  {
   "cell_type": "code",
   "execution_count": 47,
   "metadata": {},
   "outputs": [
    {
     "data": {
      "text/plain": [
       "0   2005-06-01\n",
       "1   2005-07-01\n",
       "2   2005-08-01\n",
       "3   2005-09-01\n",
       "4   2005-10-01\n",
       "Name: date, dtype: datetime64[ns]"
      ]
     },
     "execution_count": 47,
     "metadata": {},
     "output_type": "execute_result"
    }
   ],
   "source": [
    "ghcn['date'].head()"
   ]
  },
  {
   "cell_type": "code",
   "execution_count": 48,
   "metadata": {},
   "outputs": [
    {
     "name": "stdout",
     "output_type": "stream",
     "text": [
      "BETHPAGE 0.9 NNW NY US\n",
      "BRONX NY US\n",
      "BROOKLYN 2.4 SW NY US\n",
      "BROOKLYN 3.1 NW NY US\n",
      "CENTERPORT NY US\n",
      "CHESTNUT RIDGE 0.3 SSW NY US\n",
      "DOBBS FERRY ARDSLEY NY US\n",
      "FARMINGDALE REPUBLIC AIRPORT NY US\n",
      "FLORAL PARK 0.4 W NY US\n",
      "HARRISON 4.1 SSW NY US\n",
      "LEVITTOWN 0.2 E NY US\n",
      "MIDDLE VILLAGE 0.5 SW NY US\n",
      "MILL NECK 1.1 SW NY US\n",
      "MINEOLA NY US\n",
      "NANUET 0.3 E NY US\n",
      "NEW ROCHELLE 1.3 S NY US\n",
      "NEW YORK CENTRAL PARK OBS BELVEDERE TOWER NY US\n",
      "NEW YORK J F KENNEDY INTERNATIONAL AIRPORT NY US\n",
      "NEW YORK LAGUARDIA AIRPORT NY US\n",
      "NEW YORK NY US\n",
      "OCEANSIDE NY US\n",
      "SPRING VALLEY 1.7 N NY US\n",
      "STATEN ISLAND 1.4 SE NY US\n",
      "STATEN ISLAND 4.5 SSE NY US\n",
      "WANTAGH CEDAR CREEK NY US\n",
      "WEST NYACK 1.3 WSW NY US\n",
      "WESTCHESTER CO AIRPORT NY US\n",
      "WHITE PLAINS 3.1 NNW NY US\n"
     ]
    }
   ],
   "source": [
    "stations = dict(list(ghcn.groupby('STATION_NAME')))\n",
    "print('\\n'.join(stations.keys()))"
   ]
  },
  {
   "cell_type": "code",
   "execution_count": 49,
   "metadata": {},
   "outputs": [],
   "source": [
    "cpd = stations['NEW YORK CENTRAL PARK OBS BELVEDERE TOWER NY US']"
   ]
  },
  {
   "cell_type": "code",
   "execution_count": 50,
   "metadata": {},
   "outputs": [
    {
     "data": {
      "text/plain": [
       "pandas.core.frame.DataFrame"
      ]
     },
     "execution_count": 50,
     "metadata": {},
     "output_type": "execute_result"
    }
   ],
   "source": [
    "type(cpd)"
   ]
  },
  {
   "cell_type": "code",
   "execution_count": 52,
   "metadata": {},
   "outputs": [
    {
     "data": {
      "text/html": [
       "<div>\n",
       "<style scoped>\n",
       "    .dataframe tbody tr th:only-of-type {\n",
       "        vertical-align: middle;\n",
       "    }\n",
       "\n",
       "    .dataframe tbody tr th {\n",
       "        vertical-align: top;\n",
       "    }\n",
       "\n",
       "    .dataframe thead th {\n",
       "        text-align: right;\n",
       "    }\n",
       "</style>\n",
       "<table border=\"1\" class=\"dataframe\">\n",
       "  <thead>\n",
       "    <tr style=\"text-align: right;\">\n",
       "      <th></th>\n",
       "      <th>STATION_NAME</th>\n",
       "      <th>DATE</th>\n",
       "      <th>EMXP</th>\n",
       "      <th>MXSD</th>\n",
       "      <th>TPCP</th>\n",
       "      <th>TSNW</th>\n",
       "      <th>EMXT</th>\n",
       "      <th>EMNT</th>\n",
       "      <th>MMXT</th>\n",
       "      <th>MMNT</th>\n",
       "      <th>MNTM</th>\n",
       "      <th>date</th>\n",
       "    </tr>\n",
       "  </thead>\n",
       "  <tbody>\n",
       "    <tr>\n",
       "      <th>216</th>\n",
       "      <td>NEW YORK CENTRAL PARK OBS BELVEDERE TOWER NY US</td>\n",
       "      <td>2005-06-01</td>\n",
       "      <td>150.0</td>\n",
       "      <td>0.0</td>\n",
       "      <td>815.0</td>\n",
       "      <td>0.0</td>\n",
       "      <td>339.0</td>\n",
       "      <td>122.0</td>\n",
       "      <td>279.0</td>\n",
       "      <td>188.0</td>\n",
       "      <td>233.0</td>\n",
       "      <td>2005-06-01</td>\n",
       "    </tr>\n",
       "    <tr>\n",
       "      <th>217</th>\n",
       "      <td>NEW YORK CENTRAL PARK OBS BELVEDERE TOWER NY US</td>\n",
       "      <td>2005-07-01</td>\n",
       "      <td>386.0</td>\n",
       "      <td>0.0</td>\n",
       "      <td>906.0</td>\n",
       "      <td>0.0</td>\n",
       "      <td>361.0</td>\n",
       "      <td>167.0</td>\n",
       "      <td>294.0</td>\n",
       "      <td>212.0</td>\n",
       "      <td>253.0</td>\n",
       "      <td>2005-07-01</td>\n",
       "    </tr>\n",
       "    <tr>\n",
       "      <th>218</th>\n",
       "      <td>NEW YORK CENTRAL PARK OBS BELVEDERE TOWER NY US</td>\n",
       "      <td>2005-08-01</td>\n",
       "      <td>787.0</td>\n",
       "      <td>0.0</td>\n",
       "      <td>1007.0</td>\n",
       "      <td>0.0</td>\n",
       "      <td>372.0</td>\n",
       "      <td>183.0</td>\n",
       "      <td>306.0</td>\n",
       "      <td>223.0</td>\n",
       "      <td>265.0</td>\n",
       "      <td>2005-08-01</td>\n",
       "    </tr>\n",
       "    <tr>\n",
       "      <th>219</th>\n",
       "      <td>NEW YORK CENTRAL PARK OBS BELVEDERE TOWER NY US</td>\n",
       "      <td>2005-09-01</td>\n",
       "      <td>43.0</td>\n",
       "      <td>0.0</td>\n",
       "      <td>121.0</td>\n",
       "      <td>0.0</td>\n",
       "      <td>333.0</td>\n",
       "      <td>100.0</td>\n",
       "      <td>276.0</td>\n",
       "      <td>183.0</td>\n",
       "      <td>229.0</td>\n",
       "      <td>2005-09-01</td>\n",
       "    </tr>\n",
       "    <tr>\n",
       "      <th>220</th>\n",
       "      <td>NEW YORK CENTRAL PARK OBS BELVEDERE TOWER NY US</td>\n",
       "      <td>2005-10-01</td>\n",
       "      <td>1082.0</td>\n",
       "      <td>0.0</td>\n",
       "      <td>4250.0</td>\n",
       "      <td>0.0</td>\n",
       "      <td>267.0</td>\n",
       "      <td>39.0</td>\n",
       "      <td>176.0</td>\n",
       "      <td>111.0</td>\n",
       "      <td>144.0</td>\n",
       "      <td>2005-10-01</td>\n",
       "    </tr>\n",
       "  </tbody>\n",
       "</table>\n",
       "</div>"
      ],
      "text/plain": [
       "                                        STATION_NAME       DATE    EMXP  MXSD  \\\n",
       "216  NEW YORK CENTRAL PARK OBS BELVEDERE TOWER NY US 2005-06-01   150.0   0.0   \n",
       "217  NEW YORK CENTRAL PARK OBS BELVEDERE TOWER NY US 2005-07-01   386.0   0.0   \n",
       "218  NEW YORK CENTRAL PARK OBS BELVEDERE TOWER NY US 2005-08-01   787.0   0.0   \n",
       "219  NEW YORK CENTRAL PARK OBS BELVEDERE TOWER NY US 2005-09-01    43.0   0.0   \n",
       "220  NEW YORK CENTRAL PARK OBS BELVEDERE TOWER NY US 2005-10-01  1082.0   0.0   \n",
       "\n",
       "       TPCP  TSNW   EMXT   EMNT   MMXT   MMNT   MNTM       date  \n",
       "216   815.0   0.0  339.0  122.0  279.0  188.0  233.0 2005-06-01  \n",
       "217   906.0   0.0  361.0  167.0  294.0  212.0  253.0 2005-07-01  \n",
       "218  1007.0   0.0  372.0  183.0  306.0  223.0  265.0 2005-08-01  \n",
       "219   121.0   0.0  333.0  100.0  276.0  183.0  229.0 2005-09-01  \n",
       "220  4250.0   0.0  267.0   39.0  176.0  111.0  144.0 2005-10-01  "
      ]
     },
     "execution_count": 52,
     "metadata": {},
     "output_type": "execute_result"
    }
   ],
   "source": [
    "cpd.head()"
   ]
  },
  {
   "cell_type": "code",
   "execution_count": 53,
   "metadata": {},
   "outputs": [],
   "source": [
    "cpd = cpd[['MNTM','date']].set_index('date')"
   ]
  },
  {
   "cell_type": "code",
   "execution_count": 54,
   "metadata": {},
   "outputs": [
    {
     "data": {
      "image/png": "[encoded data removed]",
      "text/plain": [
       "<Figure size 432x288 with 1 Axes>"
      ]
     },
     "metadata": {
      "needs_background": "light"
     },
     "output_type": "display_data"
    }
   ],
   "source": [
    "_ = cpd.plot()"
   ]
  },
  {
   "cell_type": "code",
   "execution_count": 55,
   "metadata": {},
   "outputs": [
    {
     "data": {
      "image/png": "[encoded data removed]",
      "text/plain": [
       "<Figure size 432x288 with 1 Axes>"
      ]
     },
     "metadata": {
      "needs_background": "light"
     },
     "output_type": "display_data"
    }
   ],
   "source": [
    "ax = pd.plotting.lag_plot(cpd)"
   ]
  },
  {
   "cell_type": "code",
   "execution_count": 56,
   "metadata": {},
   "outputs": [],
   "source": [
    "# MISSING CODE??"
   ]
  },
  {
   "cell_type": "code",
   "execution_count": null,
   "metadata": {},
   "outputs": [],
   "source": []
  },
  {
   "cell_type": "code",
   "execution_count": 57,
   "metadata": {},
   "outputs": [
    {
     "data": {
      "image/png": "[encoded data removed]",
      "text/plain": [
       "<Figure size 432x288 with 1 Axes>"
      ]
     },
     "metadata": {
      "needs_background": "light"
     },
     "output_type": "display_data"
    }
   ],
   "source": [
    "seasonal_means = np.array([np.mean(cpd['MNTM'][month:12:].values) for month in range(12)])\n",
    "_ = plt.plot(seasonal_means)"
   ]
  },
  {
   "cell_type": "code",
   "execution_count": 58,
   "metadata": {},
   "outputs": [],
   "source": [
    "cpd['month'] = [date.month for date in cpd.index]\n",
    "monthly_means = [cpd[ cpd['month'] == month]['MNTM'].mean() for month in range(1, 13) ]"
   ]
  },
  {
   "cell_type": "code",
   "execution_count": 59,
   "metadata": {},
   "outputs": [
    {
     "data": {
      "image/png": "[encoded data removed]",
      "text/plain": [
       "<Figure size 432x288 with 1 Axes>"
      ]
     },
     "metadata": {
      "needs_background": "light"
     },
     "output_type": "display_data"
    }
   ],
   "source": [
    "_ = plt.plot(monthly_means)"
   ]
  },
  {
   "cell_type": "code",
   "execution_count": null,
   "metadata": {},
   "outputs": [],
   "source": []
  }
 ],
 "metadata": {
  "kernelspec": {
   "display_name": "Python 3",
   "language": "python",
   "name": "python3"
  },
  "language_info": {
   "codemirror_mode": {
    "name": "ipython",
    "version": 3
   },
   "file_extension": ".py",
   "mimetype": "text/x-python",
   "name": "python",
   "nbconvert_exporter": "python",
   "pygments_lexer": "ipython3",
   "version": "3.7.3"
  }
 },
 "nbformat": 4,
 "nbformat_minor": 2
}
