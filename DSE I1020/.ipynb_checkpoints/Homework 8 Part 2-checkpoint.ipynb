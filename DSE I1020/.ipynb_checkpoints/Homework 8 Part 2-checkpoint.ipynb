{
 "cells": [
  {
   "cell_type": "markdown",
   "metadata": {},
   "source": [
    "# Word Frequency in The Wonderful Wizrd of Oz"
   ]
  },
  {
   "cell_type": "code",
   "execution_count": 1,
   "metadata": {},
   "outputs": [],
   "source": [
    "# Importing requests, BeautifulSoup and nltk\n",
    "import requests\n",
    "from bs4 import BeautifulSoup\n",
    "import nltk"
   ]
  },
  {
   "cell_type": "code",
   "execution_count": 2,
   "metadata": {},
   "outputs": [
    {
     "name": "stdout",
     "output_type": "stream",
     "text": [
      "<!DOCTYPE HTML PUBLIC \"-//W3C//DTD HTML 4.01 Transitional//EN\">\r\n",
      "<HTML>\r\n",
      "<HEAD>\r\n",
      "\r\n",
      "<META HTTP-EQUIV=\"Content-Type\" CONTENT=\"text/html; charset=iso-8859-1\">\r\n",
      "\r\n",
      "<TITLE>\r\n",
      "The Project Gutenberg E-text of The Wonderful Wizard of Oz, by L. Frank Baum.\r\n",
      "</TITLE>\r\n",
      "\r\n",
      "<STYLE TYPE=\"text/css\">\r\n",
      "BODY { color: Black;\r\n",
      "       background: White;\r\n",
      "       margin-right: 10%;\r\n",
      "       margin-left: 10%;\r\n",
      "       font-size: medium;\r\n",
      "       font-family: \"Times New Roman\", serif;\r\n",
      "       text-align: justify }\r\n",
      "\r\n",
      "PRE {  font-size: medium;\r\n",
      "       font-family: \"Times New Roman\", serif }\r\n",
      "\r\n",
      "P {text-indent: 4% }\r\n",
      "\r\n",
      "P.noindent {text-indent: 0% }\r\n",
      "\r\n",
      "P.poem {text-indent: 0%;\r\n",
      "        margin-left: 10%;\r\n",
      "        font-size: small }\r\n",
      "\r\n",
      "P.finis { text-align: center ;\r\n",
      "          text-indent: 0% ;\r\n",
      "          margin-left: 0% ;\r\n",
      "          margin-right: 0% }\r\n",
      "\r\n",
      "\r\n",
      "</STYLE>\r\n",
      "\r\n",
      "</HEAD>\r\n",
      "\r\n",
      "<BODY>\r\n",
      "\r\n",
      "\r\n",
      "<pre>\r\n",
      "\r\n",
      "The Project Gutenberg EBook of The Wonderful Wizard of Oz, by L. Frank Baum\r\n",
      "\r\n",
      "This eBook is for the use of anyone anywhere at no cost and with\r\n",
      "almost no restrictions whatsoever.  You may copy it, give it away or\r\n",
      "re-use it under the terms of the Project Gutenberg License included\r\n",
      "with this eBook or online at www.gutenberg.net\r\n",
      "\r\n",
      "\r\n",
      "Title: The Wonderful Wizard of Oz\r\n",
      "\r\n",
      "Author: L. Frank Baum\r\n",
      "\r\n",
      "Release Date: July 1, 2008 [EBook #55]\r\n",
      "\r\n",
      "Language: English\r\n",
      "\r\n",
      "Character set encoding: ISO-8859-1\r\n",
      "\r\n",
      "*** START OF THIS PROJECT GUTENBERG EBOOK THE WONDERFUL WIZARD OF OZ ***\r\n",
      "\r\n",
      "\r\n",
      "\r\n",
      "\r\n",
      "<table summary=\"\" style=\"margin-right: auto; margin-left: auto\" cellpadding=\"4\" border=\"3\">\r\n",
      "<tr>\r\n",
      "<td>\r\n",
      "THERE IS\r\n",
      "AN ILLUSTRATED EDITION OF THIS TITLE WHICH MAY VIEWED AT EBOOK <big><b><a href=\"http://www.gutenberg.org/files/43936/43936-h/43936-h.htm\">\r\n",
      "[ #43936 ]</a></b></big>\r\n",
      "</td>\r\n",
      "</tr>\r\n",
      "</table>\r\n",
      "\r\n",
      "\r\n",
      "\r\n",
      "\r\n",
      "\r\n",
      "\r\n",
      "\r\n",
      "</pre>\r\n",
      "\r\n",
      "\r\n",
      "<BR><BR>\r\n",
      "\r\n",
      "<H1 ALIGN=\"center\">\r\n",
      "The Wonderful Wizard of Oz\r\n",
      "</H1>\r\n",
      "\r\n",
      "<BR>\r\n",
      "\r\n",
      "<H3 ALIGN=\"center\">\r\n",
      "by\r\n",
      "</H3>\r\n",
      "\r\n",
      "<H2 ALIGN=\"center\">\r\n",
      "L. Frank Baum\r\n",
      "</H2>\r\n",
      "\r\n",
      "<BR><BR>\r\n",
      "\r\n",
      "<H2 ALIGN=\"center\">\r\n",
      "Contents\r\n",
      "</H2>\r\n",
      "\r\n",
      "<P\n"
     ]
    }
   ],
   "source": [
    "# Getting 'The Wonderful Wizard of Oz' HTML \n",
    "r = requests.get('https://www.gutenberg.org/files/55/55-h/55-h.htm')\n",
    "\n",
    "# Setting the correct text encoding of the HTML page\n",
    "r.encoding = 'utf-8'\n",
    "\n",
    "# Extracting the HTML from the request object\n",
    "html = r.text\n",
    "\n",
    "# Printing the first 2000 characters in html\n",
    "print(html[:2000])"
   ]
  },
  {
   "cell_type": "code",
   "execution_count": 3,
   "metadata": {
    "scrolled": true
   },
   "outputs": [
    {
     "name": "stdout",
     "output_type": "stream",
     "text": [
      "he farther\r\n",
      "they went the more dismal and lonesome the country became.\r\n",
      "\n",
      "\r\n",
      "At noon they sat down by the roadside, near a little brook, and Dorothy\r\n",
      "opened her basket and got out some bread.  She offered a piece to the\r\n",
      "Scarecrow, but he refused.\r\n",
      "\n",
      "\r\n",
      "\"I am never hungry,\" he said, \"and it is a lucky thing I am not, for my\r\n",
      "mouth is only painted, and if I should cut a hole in it so I could eat,\r\n",
      "the straw I am stuffed with would come out, and that would spoil the\r\n",
      "shape of my head.\"\r\n",
      "\n",
      "\r\n",
      "Dorothy saw at once that this was true, so she only nodded and went on\r\n",
      "eating her bread.\r\n",
      "\n",
      "\r\n",
      "\"Tell me something about yourself and the country you came from,\" said\r\n",
      "the Scarecrow, when she had finished her dinner.  So she told him all\r\n",
      "about Kansas, and how gray everything was there, and how the cyclone\r\n",
      "had carried her to this queer Land of Oz.\r\n",
      "\n",
      "\r\n",
      "The Scarecrow listened carefully, and said, \"I cannot understand why\r\n",
      "you should wish to leave this beautiful country and go back to the dry,\r\n",
      "gray place you call Kansas.\"\r\n",
      "\n",
      "\r\n",
      "\"That is because you have no brains\" answered the girl.  \"No matter how\r\n",
      "dreary and gray our homes are, we people of flesh and blood would\r\n",
      "rather live there than in any other country, be it ever so beautiful.\r\n",
      "There is no place like home.\"\r\n",
      "\n",
      "\r\n",
      "The Scarecrow sighed.\r\n",
      "\n",
      "\r\n",
      "\"Of course I cannot understand it,\" he said.  \"If your heads were\r\n",
      "stuffed with straw, like mine, you would probably all live in the\r\n",
      "beautiful places, and then Kansas would have no people at all.  It is\r\n",
      "fortunate for Kansas that you have brains.\"\r\n",
      "\n",
      "\r\n",
      "\"Won't you tell me a story, while we are resting?\" asked the child.\r\n",
      "\n",
      "\r\n",
      "The Scarecrow looked at her reproachfully, and answered:\r\n",
      "\n",
      "\r\n",
      "\"My life has been so short that I really know nothing whatever.  I was\r\n",
      "only made day before yesterday.  What happened in the world before that\r\n",
      "time is all unknown to me.  Luckily, when the farmer made my head, one\r\n",
      "of the first things he did was to paint my ears, so that I heard what\r\n",
      "was going on.  There was another Munc\n"
     ]
    }
   ],
   "source": [
    "# Creating a BeautifulSoup object from the HTML\n",
    "soup = BeautifulSoup(html)\n",
    "\n",
    "# Getting the text out of the soup\n",
    "text = soup.get_text()\n",
    "\n",
    "# Printing out text between characters 32000 and 34000\n",
    "print(text[32000:34000])"
   ]
  },
  {
   "cell_type": "code",
   "execution_count": 4,
   "metadata": {},
   "outputs": [
    {
     "name": "stdout",
     "output_type": "stream",
     "text": [
      "['The', 'Project', 'Gutenberg', 'E', 'text', 'of', 'The', 'Wonderful']\n"
     ]
    }
   ],
   "source": [
    "# Creating a tokenizer\n",
    "tokenizer = nltk.tokenize.RegexpTokenizer('\\w+')\n",
    "\n",
    "# Tokenizing the text\n",
    "tokens = tokenizer.tokenize(text)\n",
    "\n",
    "# Printing out the first 8 words / tokens \n",
    "print(tokens[:8])"
   ]
  },
  {
   "cell_type": "code",
   "execution_count": 5,
   "metadata": {},
   "outputs": [
    {
     "name": "stdout",
     "output_type": "stream",
     "text": [
      "['the', 'project', 'gutenberg', 'e', 'text', 'of', 'the', 'wonderful']\n"
     ]
    }
   ],
   "source": [
    "# A new list to hold the lowercased words\n",
    "words = []\n",
    "\n",
    "# Looping through the tokens and make them lower case\n",
    "for word in tokens:\n",
    "    words.append(word.lower())\n",
    "\n",
    "# Printing out the first 8 words / tokens \n",
    "print(words[:8])"
   ]
  },
  {
   "cell_type": "code",
   "execution_count": 6,
   "metadata": {},
   "outputs": [
    {
     "name": "stderr",
     "output_type": "stream",
     "text": [
      "[nltk_data] Downloading package stopwords to\n",
      "[nltk_data]     C:\\Users\\user\\AppData\\Roaming\\nltk_data...\n",
      "[nltk_data]   Package stopwords is already up-to-date!\n"
     ]
    },
    {
     "data": {
      "text/plain": [
       "['i', 'me', 'my', 'myself', 'we', 'our', 'ours', 'ourselves']"
      ]
     },
     "execution_count": 6,
     "metadata": {},
     "output_type": "execute_result"
    }
   ],
   "source": [
    "# Getting the English stop words from nltk\n",
    "nltk.download('stopwords')\n",
    "sw = nltk.corpus.stopwords.words('english')\n",
    "\n",
    "# Printing out the first eight stop words\n",
    "sw[:8]"
   ]
  },
  {
   "cell_type": "code",
   "execution_count": 7,
   "metadata": {},
   "outputs": [
    {
     "name": "stdout",
     "output_type": "stream",
     "text": [
      "['project', 'gutenberg', 'e', 'text', 'wonderful']\n"
     ]
    }
   ],
   "source": [
    "# A new list to hold Moby Dick with No Stop words\n",
    "words_ns = []\n",
    "\n",
    "# Appending to words_ns all words that are in words but not in sw\n",
    "for word in words:\n",
    "    if word not in sw:\n",
    "        words_ns.append(word)        \n",
    "\n",
    "# Printing the first 5 words_ns to check that stop words are gone\n",
    "print(words_ns[:5])"
   ]
  },
  {
   "cell_type": "code",
   "execution_count": 8,
   "metadata": {},
   "outputs": [
    {
     "data": {
      "image/png": "[encoded data removed]",
      "text/plain": [
       "<Figure size 432x288 with 1 Axes>"
      ]
     },
     "metadata": {
      "needs_background": "light"
     },
     "output_type": "display_data"
    },
    {
     "data": {
      "text/plain": [
       "<matplotlib.axes._subplots.AxesSubplot at 0x2d4975f8c18>"
      ]
     },
     "execution_count": 8,
     "metadata": {},
     "output_type": "execute_result"
    }
   ],
   "source": [
    "# This command display figures inline\n",
    "%matplotlib inline\n",
    "\n",
    "# Creating the word frequency distribution\n",
    "freqdist = nltk.FreqDist(words_ns)\n",
    "\n",
    "# Plotting the word frequency distribution\n",
    "freqdist.plot(25)"
   ]
  },
  {
   "cell_type": "markdown",
   "metadata": {},
   "source": [
    "The most common word in The Wonderful Wizard of Oz is 'dorothy'"
   ]
  }
 ],
 "metadata": {
  "kernelspec": {
   "display_name": "Python 3",
   "language": "python",
   "name": "python3"
  },
  "language_info": {
   "codemirror_mode": {
    "name": "ipython",
    "version": 3
   },
   "file_extension": ".py",
   "mimetype": "text/x-python",
   "name": "python",
   "nbconvert_exporter": "python",
   "pygments_lexer": "ipython3",
   "version": "3.7.3"
  }
 },
 "nbformat": 4,
 "nbformat_minor": 2
}
