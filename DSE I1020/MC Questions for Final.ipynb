{
 "cells": [
  {
   "cell_type": "markdown",
   "metadata": {},
   "source": [
    "#### Visualizing Geospatial Data in Python\n",
    "1. Which is **not** an operation of `.sjoin()` in GeoPandas?\\\n",
    "    a. intersects\\\n",
    "    b. **difference**\\\n",
    "    c. contains\\\n",
    "    d. within\n",
    "\n",
    "\n",
    "2. Which is **not** a type of geometry that might be stored in a geometry field?\\\n",
    "    a. lines\\\n",
    "    b. points\\\n",
    "    c. **circles**\\\n",
    "    d. polygons\n",
    "\n",
    "\n",
    "3. Which line of code would you use to read in the shapefile `map.shp`?\\\n",
    "    a. **`gpd.read_file('map.shp')`**\\\n",
    "    b. `gpd.read_shape('map.shp')`\\\n",
    "    c. `gpd.read_geometry('map.shp')`\\\n",
    "    d. `gpd.read_map('map.shp')`"
   ]
  },
  {
   "cell_type": "markdown",
   "metadata": {},
   "source": [
    "#### Working with Geospatial Data in Python\n",
    "4. When we record the world, which data model encodes the world as a continuous surface represented by a grid, such as the pixels of an image?\\\n",
    "    a. data frame\\\n",
    "    b. vector\\\n",
    "    c. array\\\n",
    "    d. **raster**\n",
    "\n",
    "\n",
    "5. Which is an operation of `.overlay()` in GeoPandas?\\\n",
    "    a. intersects\\\n",
    "    b. **union**\\\n",
    "    c. unary_union\\\n",
    "    d. buffer\n",
    "\n",
    "\n",
    "6. How would you open the raster file?\\\n",
    "    a. `rasterio.read()`\\\n",
    "    b. `rasterio.read_file()`\\\n",
    "    c. **`rasterio.open()`**\\\n",
    "    d. `rasterio.open_file()`"
   ]
  },
  {
   "cell_type": "markdown",
   "metadata": {},
   "source": [
    "#### Introduction to TensorFlow in Python\n",
    "7. Which is **not** a basic operation in TensorFlow?\\\n",
    "    a. `multiply()`\\\n",
    "    b. `matmul()`\\\n",
    "    c. `add()`\\\n",
    "    d. **`sum()`**\n",
    "\n",
    "\n",
    "8. Which loss function is highly sensitive near the minimum?\\\n",
    "    a. **`tf.keras.losses.mse()`**\\\n",
    "    b. `tf.keras.losses.rms()`\\\n",
    "    c. `tf.keras.losses.mae()`\\\n",
    "    d. `tf.keras.losses.Huber()`"
   ]
  },
  {
   "cell_type": "markdown",
   "metadata": {},
   "source": [
    "#### Introduction to Natural Language Processing in Python\n",
    "9.\tWhat regex pattern would you use for 'ccny.cuny.edu'\\\n",
    "    a. `[A-Za-z]+`\\\n",
    "    b. `[A-Z\\.]+`\\\n",
    "    c. `[A-Za-z\\.]+`\\\n",
    "    d. **`[a-z\\.]+`**\n",
    "\n",
    "\n",
    "10.\tWhat machine learning method from `scikit-learn` would work best with NLP?\\\n",
    "    a. KMeans\\\n",
    "    b. **Naive Bayes**\\\n",
    "    c. PCA\\\n",
    "    d. Logisitc Regression\n",
    "\n",
    "\n",
    "11. What is tokenization?\\\n",
    "    a. **Process of turning a string or document into smaller chunks**\\\n",
    "    b. Process of turning a string or document into larger chunks\\\n",
    "    c. Process of creating a string or document from small chunks\\\n",
    "    d. Process of creating a string or document from large chunks"
   ]
  },
  {
   "cell_type": "markdown",
   "metadata": {},
   "source": [
    "#### Introduction to PySpark\n",
    "12.\tIn PySpark, which is **not** an argument of the method `.join()`?\\\n",
    "    a. **`colname`**\\\n",
    "    b. `on`\\\n",
    "    c. `how`\\\n",
    "    d. DataFrame\n",
    "\n",
    "\n",
    "13. If you're using PySpark to convert the `sepal_length` column of the `iris` dataset to an integer, which method is correct?\\\n",
    "    a. `sepal_length.to_numeric(downcast='integer')`\\\n",
    "    b. `int(sepal_length)`\\\n",
    "    c. **`sepal_length.cast(\"integer\")`**\\\n",
    "    d. `sepal_length.type(\"integer\")`\n",
    "\n",
    "\n",
    "14. A poor binary classification model would have an AUC of:\\\n",
    "    a. -1\\\n",
    "    b. **0**\\\n",
    "    c. 0.5\\\n",
    "    d. 1"
   ]
  },
  {
   "cell_type": "markdown",
   "metadata": {},
   "source": [
    "#### Software Development Methodology: What is Agile? - Video\n",
    "15.\tWhich is not a part of agile software development?\\\n",
    "    a. small frequent updates\\\n",
    "    b. sprints\\\n",
    "    c. scrum master\\\n",
    "    d. **quality vs speed**\n",
    "\n",
    "\n",
    "#### Metrics\n",
    "16. What is the formula for precision?\t\n",
    "    a. True Positive / (True Positive + False Negative)\\\n",
    "    b. **True Positive / (True Positive + False Positive)**\\\n",
    "    c. True Negative / (True Positive + False Negative)\\\n",
    "    d. True Negative / (True Positive + False Positive)\n",
    "\n",
    "\n",
    "17. What is the formula for recall?\t\n",
    "    a. **True Positive / (True Positive + False Negative)**\\\n",
    "    b. True Positive / (True Positive + False Positive)\\\n",
    "    c. True Negative / (True Positive + False Negative)\\\n",
    "    d. True Negative / (True Positive + False Positive)\n",
    "    \n",
    "\n",
    "#### ROC Curves\n",
    "18. What is an ROC curve?\\\n",
    "    a. Plot of the False Positive Rate vs False Negative Rate\\\n",
    "    b. Plot of the True Positive Rate vs True Negative Rate\\\n",
    "    c. **Plot of the True Positive Rate vs False Positive Rate**\\\n",
    "    d. Plot of the True Negative Rate vs False Negative"
   ]
  },
  {
   "cell_type": "code",
   "execution_count": null,
   "metadata": {},
   "outputs": [],
   "source": []
  }
 ],
 "metadata": {
  "kernelspec": {
   "display_name": "Python 3",
   "language": "python",
   "name": "python3"
  },
  "language_info": {
   "codemirror_mode": {
    "name": "ipython",
    "version": 3
   },
   "file_extension": ".py",
   "mimetype": "text/x-python",
   "name": "python",
   "nbconvert_exporter": "python",
   "pygments_lexer": "ipython3",
   "version": "3.7.4"
  }
 },
 "nbformat": 4,
 "nbformat_minor": 2
}
